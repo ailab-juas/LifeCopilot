{
  "cells": [
    {
      "cell_type": "code",
      "execution_count": null,
      "metadata": {
        "colab": {
          "base_uri": "https://localhost:8080/"
        },
        "id": "8iq6VtLcJRKU",
        "outputId": "9d5333ca-8af1-4fd5-af45-f6d5ff51fa1d"
      },
      "outputs": [
        {
          "name": "stdout",
          "output_type": "stream",
          "text": [
            "Mounted at /content/drive\n"
          ]
        }
      ],
      "source": [
        "#最初にマウント→メールアドレス選択→許可→「Mounted at /content/drive」を確認\n",
        "from google.colab import drive\n",
        "drive.mount('/content/drive')"
      ]
    },
    {
      "cell_type": "code",
      "execution_count": null,
      "metadata": {
        "colab": {
          "base_uri": "https://localhost:8080/"
        },
        "id": "yiQAivgKNKzS",
        "outputId": "cf70b35d-b8f3-4fda-df04-9b70ce6aa01c"
      },
      "outputs": [
        {
          "name": "stderr",
          "output_type": "stream",
          "text": [
            "<ipython-input-3-a4fcb652e8ad>:14: DtypeWarning: Columns (10) have mixed types. Specify dtype option on import or set low_memory=False.\n",
            "  df = pd.read_csv(filename)\n",
            "<ipython-input-3-a4fcb652e8ad>:14: DtypeWarning: Columns (10) have mixed types. Specify dtype option on import or set low_memory=False.\n",
            "  df = pd.read_csv(filename)\n",
            "<ipython-input-3-a4fcb652e8ad>:14: DtypeWarning: Columns (10) have mixed types. Specify dtype option on import or set low_memory=False.\n",
            "  df = pd.read_csv(filename)\n",
            "<ipython-input-3-a4fcb652e8ad>:14: DtypeWarning: Columns (10) have mixed types. Specify dtype option on import or set low_memory=False.\n",
            "  df = pd.read_csv(filename)\n",
            "<ipython-input-3-a4fcb652e8ad>:62: DeprecationWarning: In a future version, `df.iloc[:, i] = newvals` will attempt to set the values inplace instead of always setting a new array. To retain the old behavior, use either `df[df.columns[i]] = newvals` or, if columns are non-unique, `df.isetitem(i, newvals)`\n",
            "  df_train_X_y.iloc[:,2]  = df_train_X_y.iloc[:,2].astype('float')\n",
            "<ipython-input-3-a4fcb652e8ad>:63: DeprecationWarning: In a future version, `df.iloc[:, i] = newvals` will attempt to set the values inplace instead of always setting a new array. To retain the old behavior, use either `df[df.columns[i]] = newvals` or, if columns are non-unique, `df.isetitem(i, newvals)`\n",
            "  df_train_X_y.iloc[:,4]  = df_train_X_y.iloc[:,4].astype('float')\n"
          ]
        },
        {
          "name": "stdout",
          "output_type": "stream",
          "text": [
            "[LightGBM] [Info] Auto-choosing col-wise multi-threading, the overhead of testing was 0.052456 seconds.\n",
            "You can set `force_col_wise=true` to remove the overhead.\n",
            "[LightGBM] [Info] Total Bins 781\n",
            "[LightGBM] [Info] Number of data points in the train set: 714039, number of used features: 7\n",
            "[LightGBM] [Info] Start training from score 7.236887\n",
            "Training until validation scores don't improve for 100 rounds\n",
            "Early stopping, best iteration is:\n",
            "[11152]\tvalid_0's l1: 0.0849826\n"
          ]
        }
      ],
      "source": [
        "# 訓練データの読み込み\n",
        "import csv\n",
        "import numpy  as np\n",
        "import pandas as pd\n",
        "import glob\n",
        "from sklearn.model_selection import train_test_split\n",
        "from sklearn.metrics import mean_absolute_error\n",
        "import lightgbm as lgb\n",
        "\n",
        "path = '/content/drive/My Drive/2023_Nishika_aki_train'\n",
        "all_files = glob.glob(path + \"/*.csv\")\n",
        "\n",
        "li = []\n",
        "\n",
        "for filename in all_files:\n",
        "    df = pd.read_csv(filename)\n",
        "    li.append(df)\n",
        "\n",
        "df_train_org = pd.concat(li, axis=0, ignore_index=True)\n",
        "\n",
        "\n",
        "# 特徴量（絞り込み済）＋目的変数\n",
        "df_train_X_y = df_train_org.iloc[:,[3,7,8,9,10,14,24,27]]\n",
        "\n",
        "\n",
        "# all出力\n",
        "# df_train_X_y.to_csv('/content/drive/My Drive/2023_Nishika_aki_train/all/all_train_X_y_1.csv')\n",
        "\n",
        "\n",
        "# ＮＧ値をＯＫ値へ置き換え\n",
        "df_train_X_y = df_train_X_y.replace('1H?1H30', '75')\n",
        "df_train_X_y = df_train_X_y.replace('1H30?2H', '105')\n",
        "df_train_X_y = df_train_X_y.replace('2H?', '120')\n",
        "df_train_X_y = df_train_X_y.replace('30分?60分', '45')\n",
        "df_train_X_y = df_train_X_y.replace('2000㎡以上', '2000')\n",
        "\n",
        "\n",
        "df_train_X_y.columns = ['post','eki','minute','mad','area','born','bai','price']\n",
        "\n",
        "# ＮａＮを空白へ置き換え\n",
        "df_train_X_y['eki'] = df_train_X_y['eki'].fillna('空白')\n",
        "df_train_X_y['mad'] = df_train_X_y['mad'].fillna('空白')\n",
        "df_train_X_y['born'] = df_train_X_y['born'].fillna('空白')\n",
        "\n",
        "# ＮａＮを平均値へ置き換え\n",
        "#やむを得ず\n",
        "df_train_X_y['minute'] = df_train_X_y['minute'].fillna(11.61216821)\n",
        "\n",
        "#各特徴量ごとの目的変数の平均をとる\n",
        "post_means = df_train_X_y.groupby('post')['price'].mean()\n",
        "eki_means  = df_train_X_y.groupby('eki')['price'].mean()\n",
        "mad_means  = df_train_X_y.groupby('mad')['price'].mean()\n",
        "born_means = df_train_X_y.groupby('born')['price'].mean()\n",
        "bai_means  = df_train_X_y.groupby('bai')['price'].mean()\n",
        "\n",
        "\n",
        "# 目的変数の平均を特徴量として列を置き換える（ターゲットエンコーディング）\n",
        "df_train_X_y['post'] = df_train_X_y['post'].map(post_means)\n",
        "df_train_X_y['eki']  = df_train_X_y['eki'].map(eki_means)\n",
        "df_train_X_y['mad']  = df_train_X_y['mad'].map(mad_means)\n",
        "df_train_X_y['born'] = df_train_X_y['born'].map(born_means)\n",
        "df_train_X_y['bai']  = df_train_X_y['bai'].map(bai_means)\n",
        "\n",
        "df_train_X_y.iloc[:,2]  = df_train_X_y.iloc[:,2].astype('float')\n",
        "df_train_X_y.iloc[:,4]  = df_train_X_y.iloc[:,4].astype('float')\n",
        "\n",
        "\n",
        "# all出力\n",
        "# df_train_X_y.to_csv('/content/drive/My Drive/2023_Nishika_aki_train/all/all_train_X_y_3.csv')\n",
        "\n",
        "# 改めて学習データをＸ（特徴量）とｙ（目的変数）へ分割\n",
        "df_train_X = df_train_X_y.iloc[:,:7]\n",
        "df_train_y = df_train_X_y.iloc[:,7]\n",
        "\n",
        "\n",
        "# 学習データを、訓練データと検証データへ分割する\n",
        "\n",
        "\n",
        "X_train, X_valid, y_train, y_valid = train_test_split(\n",
        "    df_train_X, df_train_y, test_size=0.1, random_state=0\n",
        "    )\n",
        "\n",
        "\n",
        "# 評価指標として決定係数（MAE）を使う\n",
        "\n",
        "\n",
        "\n",
        "# 機械学習アルゴリズムにｌｉｇｈｔＧＢＭを使用\n",
        "\n",
        "\n",
        "\n",
        "trains = lgb.Dataset(X_train,y_train)\n",
        "valids = lgb.Dataset(X_valid,y_valid)\n",
        "\n",
        "\n",
        "params = {\n",
        "  'objective':'regression',\n",
        "  'metrics':'mae',\n",
        "}\n",
        "\n",
        "\n",
        "model = lgb.train(params, trains, valid_sets=valids, num_boost_round=100000,\n",
        "                  callbacks=[lgb.early_stopping(stopping_rounds=100)])\n",
        "\n",
        "\n",
        "# 予測\n",
        "y_train_pred = model.predict(X_train)\n",
        "y_valid_pred = model.predict(X_valid)\n",
        "\n",
        "# pickleをインポート\n",
        "import pickle\n",
        "\n",
        "# モデルを保存\n",
        "# filename = 'ml_model.sav'\n",
        "filename = '/content/drive/My Drive/2023_Nishika_aki_train/all/ml_model.sav'\n",
        "pickle.dump(model, open(filename, 'wb'))\n",
        "\n"
      ]
    },
    {
      "cell_type": "code",
      "execution_count": 8,
      "metadata": {
        "colab": {
          "base_uri": "https://localhost:8080/"
        },
        "id": "2uPCgqBFHsNL",
        "outputId": "b66d9e61-aed0-49bc-e010-f120346b08e3"
      },
      "outputs": [
        {
          "name": "stdout",
          "output_type": "stream",
          "text": [
            "8980000\n"
          ]
        },
        {
          "name": "stderr",
          "output_type": "stream",
          "text": [
            "<ipython-input-8-f5053b3bd053>:9: FutureWarning: The frame.append method is deprecated and will be removed from pandas in a future version. Use pandas.concat instead.\n",
            "  df_real_X = df_real_X.append({'post': 6.994685678,  #市区町村コード\n"
          ]
        }
      ],
      "source": [
        "def price_get(ent_minute, ent_area):\n",
        "    filename = 'ml_model.sav'\n",
        "    model_load = pickle.load(open(filename, 'rb'))\n",
        "\n",
        "    df_real_X = pd.DataFrame(columns=['post', 'eki', 'minute', 'mad', 'area', 'born', 'bai'])\n",
        "\n",
        "    # 特徴量\n",
        "    #\n",
        "    df_real_X = df_real_X.append({'post': 6.994685678,  #市区町村コード\n",
        "                                  'eki': 6.938155853,   #最寄り駅(博多)\n",
        "                                  'minute': ent_minute, #最寄り駅からの時間(分)\n",
        "                                  'mad': 7.046666262,   #間取り(1K)\n",
        "                                  'area': ent_area,     #面積\n",
        "                                  'born': 6.943949703,  #建築年(平成3年)\n",
        "                                  'bai': 7.172629839},  #取引時点(2012年)\n",
        "                    ignore_index=True)\n",
        "\n",
        "    # 予測\n",
        "    y_real_pred = model_load.predict(df_real_X)\n",
        "\n",
        "    # 'return'を使って、関数の戻り値を指定します。\n",
        "    return  y_real_pred\n",
        "\n",
        "price_log = price_get(10, 70)[0]\n",
        "price = round(10**price_log/10000)*10000\n",
        "print(price)\n"
      ]
    }
  ],
  "metadata": {
    "colab": {
      "gpuType": "T4",
      "provenance": [],
      "toc_visible": true
    },
    "kernelspec": {
      "display_name": "Python 3",
      "name": "python3"
    },
    "language_info": {
      "name": "python"
    }
  },
  "nbformat": 4,
  "nbformat_minor": 0
}
