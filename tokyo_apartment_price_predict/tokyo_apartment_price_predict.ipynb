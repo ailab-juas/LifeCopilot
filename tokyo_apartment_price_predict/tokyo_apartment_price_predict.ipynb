{
  "nbformat": 4,
  "nbformat_minor": 0,
  "metadata": {
    "colab": {
      "provenance": [],
      "gpuType": "T4",
      "toc_visible": true
    },
    "kernelspec": {
      "name": "python3",
      "display_name": "Python 3"
    },
    "language_info": {
      "name": "python"
    }
  },
  "cells": [
    {
      "cell_type": "code",
      "execution_count": null,
      "metadata": {
        "colab": {
          "base_uri": "https://localhost:8080/"
        },
        "id": "8iq6VtLcJRKU",
        "outputId": "00d4b277-c8e2-4f9e-9813-e7c480c9965d"
      },
      "outputs": [
        {
          "output_type": "stream",
          "name": "stdout",
          "text": [
            "Mounted at /content/drive\n"
          ]
        }
      ],
      "source": [
        "#最初にマウント→メールアドレス選択→許可→「Mounted at /content/drive」を確認\n",
        "from google.colab import drive\n",
        "drive.mount('/content/drive')"
      ]
    },
    {
      "cell_type": "code",
      "source": [
        "# 訓練データの読み込み\n",
        "import csv\n",
        "import pandas as pd\n",
        "df_train_org = pd.read_csv('/content/drive/My Drive/tokyo_hausing_train.csv')\n",
        "\n",
        "# 特徴量（絞り込み済）＋目的変数\n",
        "df_train_X_y = df_train_org.iloc[:,[3,8,9,10,14,24,27]]\n",
        "\n",
        "# 1項目でもNaNがある行は削除する\n",
        "df_train_X_y_drna = df_train_X_y.dropna(axis=0)\n",
        "\n",
        "# 「'H'､'分'､'㎡'を含む項目」を含む行を削除する\n",
        "df_train_X_y_drna.columns = ['post','minute','mad','area','born','bai','price']\n",
        "df_train_X_y_drna = df_train_X_y_drna[df_train_X_y_drna['minute'].str.contains('H') == False]\n",
        "df_train_X_y_drna = df_train_X_y_drna[df_train_X_y_drna['minute'].str.contains('分') == False]\n",
        "df_train_X_y_drna = df_train_X_y_drna[df_train_X_y_drna['area'].str.contains('㎡') == False]\n",
        "\n",
        "# 確認用\n",
        "#df_train_X_y_drna.isnull().sum(axis=0)\n",
        "#df_train_X_y_drna\n",
        "\n",
        "# 改めて学習データをＸ（特徴量）とｙ（目的変数）へ分割\n",
        "df_train_X = df_train_X_y_drna.iloc[:,:6]\n",
        "df_train_y = df_train_X_y_drna.iloc[:,6]\n",
        "\n",
        "# 学習データへ見出し付け、カテゴリ変数列を指定し、ラベルエンコーディングを実施\n",
        "df_train_X.columns = ['postno','minute','madori','area','born','baibai']\n",
        "\n",
        "from sklearn.preprocessing import LabelEncoder\n",
        "\n",
        "cat_cols = ['postno','madori','born','baibai']\n",
        "for c in cat_cols:\n",
        "  le = LabelEncoder()\n",
        "  df_train_X[c] = le.fit_transform(df_train_X[c])\n",
        "\n",
        "# 学習データを、訓練データと検証データへ分割する\n",
        "from sklearn.model_selection import train_test_split\n",
        "\n",
        "X_train, X_valid, y_train, y_valid = train_test_split(\n",
        "    df_train_X, df_train_y, test_size=0.1, random_state=0\n",
        "    )\n",
        "\n",
        "# 機械学習アルゴリズムにランダムフォレスト回帰を使用\n",
        "from sklearn.ensemble import RandomForestRegressor\n",
        "forest = RandomForestRegressor(n_estimators=1000, criterion='squared_error', random_state=0, n_jobs=-1)\n",
        "\n",
        "# 評価指標として決定係数（R^2）を使う\n",
        "import numpy as np\n",
        "from sklearn.metrics import r2_score\n",
        "\n",
        "# 訓練データに対し、層化10分割交差検証を実施する\n",
        "from sklearn.model_selection import cross_val_score\n",
        "\n",
        "scores = cross_val_score(estimator=forest,\n",
        "                         X=X_train,\n",
        "                         y=y_train,\n",
        "                         cv=10,\n",
        "                         scoring='r2',\n",
        "                         n_jobs=-1)\n",
        "\n",
        "# 10個の決定係数を求め、平均と標準偏差を計算する\n",
        "print(f'CV r2: {scores}')\n",
        "print(f'CV r2: {np.mean(scores):.3f} '\n",
        "      f'+/- {np.std(scores):.3f}')\n",
        "\n",
        "# 学習曲線を描く\n",
        "import matplotlib.pyplot as plt\n",
        "from sklearn.model_selection import learning_curve\n",
        "\n",
        "train_sizes, train_scores, test_scores =\\\n",
        "                learning_curve(estimator=forest,\n",
        "                               X=X_train,\n",
        "                               y=y_train,\n",
        "                               train_sizes=np.linspace(0.1, 1.0, 10),\n",
        "                               scoring='r2',\n",
        "                               cv=10,\n",
        "                               n_jobs=-1)\n",
        "\n",
        "train_mean = np.mean(train_scores, axis=1)\n",
        "train_std = np.std(train_scores, axis=1)\n",
        "test_mean = np.mean(test_scores, axis=1)\n",
        "test_std = np.std(test_scores, axis=1)\n",
        "\n",
        "plt.plot(train_sizes, train_mean,\n",
        "         color='blue', marker='o',\n",
        "         markersize=5, label='Training R2')\n",
        "\n",
        "plt.fill_between(train_sizes,\n",
        "                 train_mean + train_std,\n",
        "                 train_mean - train_std,\n",
        "                 alpha=0.15, color='blue')\n",
        "\n",
        "plt.plot(train_sizes, test_mean,\n",
        "         color='green', linestyle='--',\n",
        "         marker='s', markersize=5,\n",
        "         label='Validation R2')\n",
        "\n",
        "plt.fill_between(train_sizes,\n",
        "                 test_mean + test_std,\n",
        "                 test_mean - test_std,\n",
        "                 alpha=0.15, color='green')\n",
        "\n",
        "plt.grid()\n",
        "plt.xlabel('Number of training examples')\n",
        "plt.ylabel('R2')\n",
        "plt.legend(loc='lower right')\n",
        "plt.ylim([0.8, 1.03])\n",
        "plt.tight_layout()\n",
        "# plt.savefig('figures/06_05.png', dpi=300)\n",
        "plt.show()\n",
        "\n",
        "# 改めて学習データ全体（訓練データ＋検証データ）でランダムフォレスト回帰を適合\n",
        "forest.fit(X_train, y_train)\n",
        "\n",
        "y_train_pred = forest.predict(X_train)\n",
        "y_valid_pred = forest.predict(X_valid)\n",
        "\n",
        "# 訓練データ、検証データそれぞれの精度を決定係数（R^2）で評価し、表示する\n",
        "train_r2 = r2_score(y_train,y_train_pred)\n",
        "valid_r2 = r2_score(y_valid,y_valid_pred)\n",
        "\n",
        "print(train_r2)\n",
        "print(valid_r2)\n"
      ],
      "metadata": {
        "colab": {
          "base_uri": "https://localhost:8080/",
          "height": 663
        },
        "id": "yiQAivgKNKzS",
        "outputId": "43ff16f9-a80f-4704-88ff-78b95295506a"
      },
      "execution_count": null,
      "outputs": [
        {
          "output_type": "stream",
          "name": "stderr",
          "text": [
            "<ipython-input-3-8d46d9ec743e>:4: DtypeWarning: Columns (10) have mixed types. Specify dtype option on import or set low_memory=False.\n",
            "  df_train_org = pd.read_csv('/content/drive/My Drive/tokyo_hausing_train.csv')\n",
            "/usr/local/lib/python3.10/dist-packages/joblib/externals/loky/process_executor.py:752: UserWarning: A worker stopped while some jobs were given to the executor. This can be caused by a too short worker timeout or by a memory leak.\n",
            "  warnings.warn(\n"
          ]
        },
        {
          "output_type": "stream",
          "name": "stdout",
          "text": [
            "CV r2: [0.84678718 0.81296364 0.83340073 0.81600697 0.79961559 0.81199692\n",
            " 0.83900341 0.82484535 0.83843965 0.82318162]\n",
            "CV r2: 0.825 +/- 0.014\n"
          ]
        },
        {
          "output_type": "display_data",
          "data": {
            "text/plain": [
              "<Figure size 640x480 with 1 Axes>"
            ],
            "image/png": "[encoded data removed]"
          },
          "metadata": {}
        },
        {
          "output_type": "stream",
          "name": "stdout",
          "text": [
            "0.9751205579538458\n",
            "0.8268487411519462\n"
          ]
        }
      ]
    }
  ]
}