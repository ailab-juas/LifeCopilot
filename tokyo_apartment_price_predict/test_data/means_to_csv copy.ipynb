{
  "cells": [
    {
      "cell_type": "code",
      "execution_count": 4,
      "metadata": {},
      "outputs": [
        {
          "name": "stdout",
          "output_type": "stream",
          "text": [
            "Requirement already satisfied: pandas in c:\\users\\naofuk\\appdata\\local\\programs\\python\\python39\\lib\\site-packages (1.5.3)\n",
            "Requirement already satisfied: python-dateutil>=2.8.1 in c:\\users\\naofuk\\appdata\\local\\programs\\python\\python39\\lib\\site-packages (from pandas) (2.8.2)\n",
            "Requirement already satisfied: pytz>=2020.1 in c:\\users\\naofuk\\appdata\\local\\programs\\python\\python39\\lib\\site-packages (from pandas) (2024.1)\n",
            "Requirement already satisfied: numpy>=1.20.3 in c:\\users\\naofuk\\appdata\\local\\programs\\python\\python39\\lib\\site-packages (from pandas) (1.26.3)\n",
            "Requirement already satisfied: six>=1.5 in c:\\users\\naofuk\\appdata\\local\\programs\\python\\python39\\lib\\site-packages (from python-dateutil>=2.8.1->pandas) (1.16.0)\n"
          ]
        },
        {
          "name": "stderr",
          "output_type": "stream",
          "text": [
            "\n",
            "[notice] A new release of pip is available: 23.3.2 -> 24.0\n",
            "[notice] To update, run: C:\\Users\\naofuk\\AppData\\Local\\Programs\\Python\\Python39\\python.exe -m pip install --upgrade pip\n"
          ]
        }
      ],
      "source": [
        "!pip install pandas"
      ]
    },
    {
      "cell_type": "code",
      "execution_count": 6,
      "metadata": {
        "colab": {
          "base_uri": "https://localhost:8080/"
        },
        "id": "yiQAivgKNKzS",
        "outputId": "cf70b35d-b8f3-4fda-df04-9b70ce6aa01c"
      },
      "outputs": [
        {
          "ename": "ModuleNotFoundError",
          "evalue": "No module named 'pandas'",
          "output_type": "error",
          "traceback": [
            "\u001b[1;31m---------------------------------------------------------------------------\u001b[0m",
            "\u001b[1;31mModuleNotFoundError\u001b[0m                       Traceback (most recent call last)",
            "Cell \u001b[1;32mIn[6], line 3\u001b[0m\n\u001b[0;32m      1\u001b[0m \u001b[38;5;66;03m# 訓練データの読み込み\u001b[39;00m\n\u001b[0;32m      2\u001b[0m \u001b[38;5;28;01mimport\u001b[39;00m \u001b[38;5;21;01mcsv\u001b[39;00m\n\u001b[1;32m----> 3\u001b[0m \u001b[38;5;28;01mimport\u001b[39;00m \u001b[38;5;21;01mpandas\u001b[39;00m \u001b[38;5;28;01mas\u001b[39;00m \u001b[38;5;21;01mpd\u001b[39;00m\n\u001b[0;32m      4\u001b[0m \u001b[38;5;28;01mimport\u001b[39;00m \u001b[38;5;21;01mglob\u001b[39;00m\n\u001b[0;32m      6\u001b[0m path \u001b[38;5;241m=\u001b[39m \u001b[38;5;124m'\u001b[39m\u001b[38;5;124mtrain\u001b[39m\u001b[38;5;124m'\u001b[39m\n",
            "\u001b[1;31mModuleNotFoundError\u001b[0m: No module named 'pandas'"
          ]
        }
      ],
      "source": [
        "# 訓練データの読み込み\n",
        "import csv\n",
        "import pandas as pd\n",
        "import glob\n",
        "\n",
        "path = 'train'\n",
        "all_files = glob.glob(path + \"/*.csv\")\n",
        "\n",
        "li = []\n",
        "\n",
        "for filename in all_files:\n",
        "    df = pd.read_csv(filename)\n",
        "    li.append(df)\n",
        "\n",
        "df_train_org = pd.concat(li, axis=0, ignore_index=True)\n",
        "\n",
        "\n",
        "# 特徴量（絞り込み済）＋目的変数\n",
        "df_train_X_y = df_train_org.iloc[:,[3,7,8,9,10,14,24,27]]\n",
        "\n",
        "# ＮＧ値をＯＫ値へ置き換え\n",
        "df_train_X_y = df_train_X_y.replace('1H?1H30', '75')\n",
        "df_train_X_y = df_train_X_y.replace('1H30?2H', '105')\n",
        "df_train_X_y = df_train_X_y.replace('2H?', '120')\n",
        "df_train_X_y = df_train_X_y.replace('30分?60分', '45')\n",
        "df_train_X_y = df_train_X_y.replace('2000㎡以上', '2000')\n",
        "\n",
        "\n",
        "df_train_X_y.columns = ['post','eki','minute','mad','area','born','bai','price']\n",
        "\n",
        "# ＮａＮを空白へ置き換え\n",
        "df_train_X_y['eki'] = df_train_X_y['eki'].fillna('空白')\n",
        "df_train_X_y['mad'] = df_train_X_y['mad'].fillna('空白')\n",
        "df_train_X_y['born'] = df_train_X_y['born'].fillna('空白')\n",
        "\n",
        "# ＮａＮを平均値へ置き換え\n",
        "#やむを得ず\n",
        "df_train_X_y['minute'] = df_train_X_y['minute'].fillna(11.61216821)\n",
        "\n",
        "#各特徴量ごとの目的変数の平均をとる\n",
        "post_means = df_train_X_y.groupby('post')['price'].mean()\n",
        "eki_means  = df_train_X_y.groupby('eki')['price'].mean()\n",
        "mad_means  = df_train_X_y.groupby('mad')['price'].mean()\n",
        "born_means = df_train_X_y.groupby('born')['price'].mean()\n",
        "bai_means  = df_train_X_y.groupby('bai')['price'].mean()\n",
        "\n",
        "post_means.to_csv('post_means.csv', index=False)\n",
        "eki_means.to_csv('eki_means.csv', index=False)\n",
        "mad_means.to_csv('mad_means.csv', index=False)\n",
        "born_means.to_csv('born_means.csv', index=False)\n",
        "bai_means.to_csv('bai_means.csv', index=False)\n",
        "\n",
        "\n",
        "\n"
      ]
    }
  ],
  "metadata": {
    "colab": {
      "gpuType": "T4",
      "provenance": [],
      "toc_visible": true
    },
    "kernelspec": {
      "display_name": "Python 3",
      "name": "python3"
    },
    "language_info": {
      "codemirror_mode": {
        "name": "ipython",
        "version": 3
      },
      "file_extension": ".py",
      "mimetype": "text/x-python",
      "name": "python",
      "nbconvert_exporter": "python",
      "pygments_lexer": "ipython3",
      "version": "3.10.4"
    }
  },
  "nbformat": 4,
  "nbformat_minor": 0
}
